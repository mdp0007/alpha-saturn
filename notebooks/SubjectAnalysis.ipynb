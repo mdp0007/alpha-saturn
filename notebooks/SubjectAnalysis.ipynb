{
  "nbformat": 4,
  "nbformat_minor": 0,
  "metadata": {
    "colab": {
      "name": "SubjectAnalysis.ipynb",
      "provenance": []
    },
    "kernelspec": {
      "name": "python3",
      "display_name": "Python 3"
    }
  },
  "cells": [
    {
      "cell_type": "markdown",
      "metadata": {
        "id": "2R8hwJfgHsmy",
        "colab_type": "text"
      },
      "source": [
        "# Subject Analysis\n",
        "Uses the `spacy` natural language processing algorithm to extract subjects from sentences. Below are various web headlines that made an impact on stock prices for these companies, the words are broken out by the type of the word such as proper noun, verb, adjective, with the thought that we can extract the subjects being referredx to in these news headlines and use it to look stock prices up."
      ]
    },
    {
      "cell_type": "code",
      "metadata": {
        "id": "t36sA5GDQvG7",
        "colab_type": "code",
        "outputId": "56526582-88ff-459d-9cae-93ef54efbd19",
        "colab": {
          "base_uri": "https://localhost:8080/",
          "height": 275
        }
      },
      "source": [
        "import spacy\n",
        "nlp = spacy.load('en_core_web_sm')\n",
        "\n",
        "pxPositive = [\"UnitedHealth projects major revenue boost in 2020 on the back of continued Optum growth\"]\n",
        "pxNegative = [\"Montgomery Chamber Projects Major Losses in Tourism Industry\"]\n",
        "cx = [\"Court Partially Overturns Class-Action Lawsuit Against OrganiGram Holdings\"]\n",
        "ax = [\n",
        "      \"Alexion to Acquire Portola\",\n",
        "      \"Cognizant to acquire Collaborative Solutions\",\n",
        "      \"Supernus to Acquire CNS Portfolio from US WorldMeds\",\n",
        "      \"Novartis to acquire digital therapeutics maker Amblyotech\",\n",
        "      ]\n",
        "\n",
        "combined = pxPositive + pxNegative + cx + ax\n",
        "\n",
        "for c in combined:\n",
        "  doc=nlp(c)\n",
        "  print([(w.text, w.pos_) for w in doc])\n",
        "  print([(w.text, w.dep_) for w in doc])"
      ],
      "execution_count": 6,
      "outputs": [
        {
          "output_type": "stream",
          "text": [
            "[('UnitedHealth', 'PROPN'), ('projects', 'VERB'), ('major', 'ADJ'), ('revenue', 'NOUN'), ('boost', 'NOUN'), ('in', 'ADP'), ('2020', 'NUM'), ('on', 'ADP'), ('the', 'DET'), ('back', 'NOUN'), ('of', 'ADP'), ('continued', 'ADJ'), ('Optum', 'PROPN'), ('growth', 'NOUN')]\n",
            "[('UnitedHealth', 'nsubj'), ('projects', 'ROOT'), ('major', 'amod'), ('revenue', 'nsubj'), ('boost', 'dobj'), ('in', 'prep'), ('2020', 'pobj'), ('on', 'prep'), ('the', 'det'), ('back', 'pobj'), ('of', 'prep'), ('continued', 'amod'), ('Optum', 'compound'), ('growth', 'pobj')]\n",
            "[('Montgomery', 'PROPN'), ('Chamber', 'PROPN'), ('Projects', 'VERB'), ('Major', 'PROPN'), ('Losses', 'NOUN'), ('in', 'ADP'), ('Tourism', 'PROPN'), ('Industry', 'PROPN')]\n",
            "[('Montgomery', 'compound'), ('Chamber', 'nsubj'), ('Projects', 'ROOT'), ('Major', 'compound'), ('Losses', 'dobj'), ('in', 'prep'), ('Tourism', 'compound'), ('Industry', 'pobj')]\n",
            "[('Court', 'PROPN'), ('Partially', 'ADV'), ('Overturns', 'VERB'), ('Class', 'PROPN'), ('-', 'PUNCT'), ('Action', 'PROPN'), ('Lawsuit', 'PROPN'), ('Against', 'ADP'), ('OrganiGram', 'PROPN'), ('Holdings', 'NOUN')]\n",
            "[('Court', 'compound'), ('Partially', 'compound'), ('Overturns', 'compound'), ('Class', 'compound'), ('-', 'punct'), ('Action', 'compound'), ('Lawsuit', 'ROOT'), ('Against', 'prep'), ('OrganiGram', 'compound'), ('Holdings', 'pobj')]\n",
            "[('Alexion', 'NOUN'), ('to', 'PART'), ('Acquire', 'VERB'), ('Portola', 'PROPN')]\n",
            "[('Alexion', 'ROOT'), ('to', 'aux'), ('Acquire', 'acl'), ('Portola', 'dobj')]\n",
            "[('Cognizant', 'VERB'), ('to', 'PART'), ('acquire', 'VERB'), ('Collaborative', 'PROPN'), ('Solutions', 'PROPN')]\n",
            "[('Cognizant', 'ROOT'), ('to', 'aux'), ('acquire', 'acl'), ('Collaborative', 'compound'), ('Solutions', 'dobj')]\n",
            "[('Supernus', 'NOUN'), ('to', 'PART'), ('Acquire', 'VERB'), ('CNS', 'PROPN'), ('Portfolio', 'PROPN'), ('from', 'ADP'), ('US', 'PROPN'), ('WorldMeds', 'PROPN')]\n",
            "[('Supernus', 'ROOT'), ('to', 'aux'), ('Acquire', 'xcomp'), ('CNS', 'compound'), ('Portfolio', 'dobj'), ('from', 'prep'), ('US', 'compound'), ('WorldMeds', 'pobj')]\n",
            "[('Novartis', 'VERB'), ('to', 'PART'), ('acquire', 'VERB'), ('digital', 'ADJ'), ('therapeutics', 'NOUN'), ('maker', 'NOUN'), ('Amblyotech', 'NOUN')]\n",
            "[('Novartis', 'ROOT'), ('to', 'aux'), ('acquire', 'acl'), ('digital', 'amod'), ('therapeutics', 'compound'), ('maker', 'compound'), ('Amblyotech', 'dobj')]\n"
          ],
          "name": "stdout"
        }
      ]
    }
  ]
}