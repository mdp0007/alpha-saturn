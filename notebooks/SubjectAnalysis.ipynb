{
  "cells": [
    {
      "cell_type": "code",
      "metadata": {
        "id": "t36sA5GDQvG7",
        "colab_type": "code",
        "outputId": "516378b6-ec46-483f-f13c-4409b2bf3706",
        "colab": {
          "base_uri": "https://localhost:8080/",
          "height": 68
        }
      },
      "source": [
        "import spacy\n",
        "nlp = spacy.load('en_core_web_sm')\n",
        "sent = \"Supernus to Acquire CNS Portfolio from US WorldMeds\"\n",
        "doc=nlp(sent)\n",
        "\n",
        "sub_toks = [tok for tok in doc if (tok.dep_ == \"nsubj\") ]\n",
        "\n",
        "print(sub_toks) \n",
        "print([(w.text, w.pos_) for w in doc])\n",
        "print([(w.text, w.dep_) for w in doc])"
      ],
      "execution_count": 0,
      "outputs": [
        {
          "output_type": "stream",
          "text": [
            "[]\n",
            "[('Supernus', 'NOUN'), ('to', 'PART'), ('Acquire', 'VERB'), ('CNS', 'PROPN'), ('Portfolio', 'PROPN'), ('from', 'ADP'), ('US', 'PROPN'), ('WorldMeds', 'PROPN')]\n",
            "[('Supernus', 'ROOT'), ('to', 'aux'), ('Acquire', 'xcomp'), ('CNS', 'compound'), ('Portfolio', 'dobj'), ('from', 'prep'), ('US', 'compound'), ('WorldMeds', 'pobj')]\n"
          ],
          "name": "stdout"
        }
      ]
    }
  ],
  "metadata": {
    "colab": {
      "name": "SubjectAnalysis.ipynb",
      "provenance": []
    },
    "kernelspec": {
      "name": "python3",
      "display_name": "Python 3"
    }
  },
  "nbformat": 4,
  "nbformat_minor": 0
}