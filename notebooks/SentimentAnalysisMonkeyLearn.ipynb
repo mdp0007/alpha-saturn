{
  "nbformat": 4,
  "nbformat_minor": 0,
  "metadata": {
    "colab": {
      "name": "SentimentAnalysisMonkeyLearn.ipynb",
      "provenance": [],
      "collapsed_sections": [],
      "authorship_tag": "ABX9TyOWaXVsbVnKcj0WnmCyuZvQ"
    },
    "kernelspec": {
      "name": "python3",
      "display_name": "Python 3"
    }
  },
  "cells": [
    {
      "cell_type": "markdown",
      "metadata": {
        "id": "qqUR0GQ_1E_O",
        "colab_type": "text"
      },
      "source": [
        "# Sentiment Analysis (MonkeyLearn)\n",
        "\n",
        "The following is an example of a press release for First Capital, Inc (FCAP) which was released, followed by a drop in their stock price due to negative sentiment."
      ]
    },
    {
      "cell_type": "code",
      "metadata": {
        "id": "IL9p1HDP0q0u",
        "colab_type": "code",
        "colab": {
          "base_uri": "https://localhost:8080/",
          "height": 272
        },
        "outputId": "515313e5-ea8e-4509-a9fa-69e0bcea3428"
      },
      "source": [
        "!pip install monkeylearn"
      ],
      "execution_count": 2,
      "outputs": [
        {
          "output_type": "stream",
          "text": [
            "Collecting monkeylearn\n",
            "  Downloading https://files.pythonhosted.org/packages/85/71/402de0a734641f015facd3d6cb24fce13c6b4bf67b6871d5425820c3cccd/monkeylearn-3.5.2.tar.gz\n",
            "Requirement already satisfied: requests>=2.8.1 in /usr/local/lib/python3.6/dist-packages (from monkeylearn) (2.23.0)\n",
            "Requirement already satisfied: six>=1.10.0 in /usr/local/lib/python3.6/dist-packages (from monkeylearn) (1.12.0)\n",
            "Requirement already satisfied: idna<3,>=2.5 in /usr/local/lib/python3.6/dist-packages (from requests>=2.8.1->monkeylearn) (2.9)\n",
            "Requirement already satisfied: urllib3!=1.25.0,!=1.25.1,<1.26,>=1.21.1 in /usr/local/lib/python3.6/dist-packages (from requests>=2.8.1->monkeylearn) (1.24.3)\n",
            "Requirement already satisfied: chardet<4,>=3.0.2 in /usr/local/lib/python3.6/dist-packages (from requests>=2.8.1->monkeylearn) (3.0.4)\n",
            "Requirement already satisfied: certifi>=2017.4.17 in /usr/local/lib/python3.6/dist-packages (from requests>=2.8.1->monkeylearn) (2020.4.5.1)\n",
            "Building wheels for collected packages: monkeylearn\n",
            "  Building wheel for monkeylearn (setup.py) ... \u001b[?25l\u001b[?25hdone\n",
            "  Created wheel for monkeylearn: filename=monkeylearn-3.5.2-cp36-none-any.whl size=16105 sha256=eca6c51ffd2058295687a489e5f51b11e86a57f8995c5d042c8df9ccac07dc79\n",
            "  Stored in directory: /root/.cache/pip/wheels/45/d7/ce/6657bd945ba1aa207d91fa86219eb5b82f2b7247a7a520d420\n",
            "Successfully built monkeylearn\n",
            "Installing collected packages: monkeylearn\n",
            "Successfully installed monkeylearn-3.5.2\n"
          ],
          "name": "stdout"
        }
      ]
    },
    {
      "cell_type": "code",
      "metadata": {
        "id": "GDVWtLUM9dKr",
        "colab_type": "code",
        "colab": {
          "base_uri": "https://localhost:8080/",
          "height": 34
        },
        "outputId": "579093e3-4df0-42e6-adaf-3482f741a0aa"
      },
      "source": [
        "from monkeylearn import MonkeyLearn\n",
        "\n",
        "ml = MonkeyLearn('afa2f7cb7cd8cc80cd152db15ceea8eccd1330aa')\n",
        "data = [\"\"\"CORYDON, Ind., April 27, 2020 (GLOBE NEWSWIRE) -- First Capital, Inc. (the “Company”) (NASDAQ:  FCAP), the holding company for First Harrison Bank (the “Bank”), today reported net income of $2.1 million or $0.63 per diluted share for the quarter ended March 31, 2020, compared to $2.1 million or $0.64 per diluted share for the quarter ended March 31, 2019.  Net income remained flat despite an increase in net interest income after provision for loan losses due to a decrease in noninterest income and an increase in noninterest expense.\n",
        "\n",
        "Net interest income after provision for loan losses increased $103,000 for the quarter ended March 31, 2020 as compared to the same period in 2019.  Interest income increased $16,000 when comparing the periods due to an increase in the average balance of interest-earning assets from $741.0 million for the first quarter of 2019 to $761.7 million for the first quarter of 2020 partially offset by a decrease in the average tax-equivalent yield on interest-earning assets from 4.19% for the first quarter of 2019 to 4.10% for the first quarter of 2020.  Interest expense increased $12,000 when comparing the periods due to an increase in the average balance of interest-bearing liabilities from $558.6 million for the first quarter of 2019 to $571.2 million for the first quarter of 2020.  The average cost of interest-bearing liabilities remained 0.33% during each of the two periods.  As a result of the changes in interest-earning assets and interest-bearing liabilities, the interest rate spread decreased from 3.86% for the quarter ended March 31, 2019 to 3.77% for the same period in 2020. \n",
        "\n",
        "Based on management’s analysis of the allowance for loan losses, the provision for loan losses decreased from $450,000 for the quarter ended March 31, 2019 to $351,000 for the quarter ended March 31, 2020.  During the three-month period ended March 31, 2019, net loans receivable increased $15.5 million and net charge-offs totaled $176,000 compared to a decrease in net loans receivable of $1.2 million and net charge-offs of $105,000 during the same period in 2020.  The $351,000 provision during 2020 primarily reflects changes to qualitative factors within the Bank’s allowance for loan losses calculation related to uncertainties surrounding COVID-19.  While it is too early to know the full extent of potential future losses associated with the impact of COVID-19, the Bank continues to monitor the situation and may need to adjust future expectations as developments occur throughout the remainder of the year.    \n",
        "\n",
        "Noninterest income decreased $49,000 for the quarter ended March 31, 2020 as compared to the same period in 2019.  The first quarter of 2020 included a $394,000 unrealized loss on equity securities compared to a $131,000 unrealized gain on equity securities during the same period in 2019.  Gains on the sale of loans and ATM and debit card fees increased $201,000 and $118,000, respectively, when comparing the two periods. \n",
        "\n",
        "Noninterest expense increased $160,000 for the quarter ended March 31, 2020 as compared to the same period in 2019, due primarily to an increase in compensation and benefits expense of $460,000 partially offset by a decrease in net losses on foreclosed real estate of $194,000.\n",
        "\n",
        "Income tax expense decreased $53,000 for the first quarter of 2020 as compared to the first quarter of 2019 primarily due to an increase in nontaxable income.   As a result, the effective tax rate for the quarter ended March 31, 2020 was 15.6% compared to 17.1% for the same period in 2019.   \n",
        "\n",
        "Total assets increased $3.7 million to $831.2 million at March 31, 2020 from $827.5 million at December 31, 2019.  Cash and cash equivalents increased $8.4 million from December 31, 2019 to March 31, 2020 while investment securities, net loans receivable and loans held for sale decreased $1.4 million, $1.2 million and $1.1 million, respectively.  Deposits increased $441,000 at March 31, 2020.  Nonperforming assets (consisting of nonaccrual loans, accruing loans 90 days or more past due, troubled debt restructurings on accrual status, and foreclosed real estate) decreased from $3.1 million at December 31, 2019 to $3.0 million at March 31, 2020.  The Bank is assisting its customers experiencing a COVID-19 related hardship by approving payment extensions and waiving or refunding certain banking fees.  As of April 24, 2020, the Bank has approved such extensions on approximately 10.8% of balances in the loan portfolio, primarily related to commercial real estate lending relationships.  Additionally, the Bank is participating in the Small Business Administration’s Paycheck Protection Program (PPP), and as has approved approximately $35.1 million of PPP loans as of April 24, 2020.\"\"\"]\n",
        "model_id = 'cl_pi3C7JiL'\n",
        "result = ml.classifiers.classify(model_id, data)\n",
        "print(result.body[0][\"classifications\"])"
      ],
      "execution_count": 5,
      "outputs": [
        {
          "output_type": "stream",
          "text": [
            "[{'tag_name': 'Negative', 'tag_id': 122921385, 'confidence': 0.904}]\n"
          ],
          "name": "stdout"
        }
      ]
    }
  ]
}