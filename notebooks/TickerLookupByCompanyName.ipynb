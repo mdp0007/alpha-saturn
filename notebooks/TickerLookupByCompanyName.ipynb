{
  "nbformat": 4,
  "nbformat_minor": 0,
  "metadata": {
    "colab": {
      "name": "TickerLookupByCompanyName.ipynb",
      "provenance": [],
      "collapsed_sections": [],
      "toc_visible": true,
      "authorship_tag": "ABX9TyMISdU57IhqRIbADQFyavXY"
    },
    "kernelspec": {
      "name": "python3",
      "display_name": "Python 3"
    }
  },
  "cells": [
    {
      "cell_type": "markdown",
      "metadata": {
        "id": "RTpbzfXlMc0u",
        "colab_type": "text"
      },
      "source": [
        "# Ticker Lookup By Company Name\n",
        "\n",
        "This uses web scraping via `requests` and `beautifulsoup` to look up a company name against the Yahoo Finance lookup page. It returns the results in a list and loops through each of them returning data needed."
      ]
    },
    {
      "cell_type": "code",
      "metadata": {
        "id": "pveZJj182biG",
        "colab_type": "code",
        "outputId": "acb575c9-bd6a-473d-d58c-ecf5902f0066",
        "colab": {
          "base_uri": "https://localhost:8080/",
          "height": 357
        }
      },
      "source": [
        "import requests\n",
        "from bs4 import BeautifulSoup\n",
        "\n",
        "company_name = \"Supernus\"\n",
        "URL = \"https://finance.yahoo.com/lookup?s=\" + company_name\n",
        "page = requests.get(URL)\n",
        "\n",
        "soup = BeautifulSoup(page.content, \"html.parser\")\n",
        "\n",
        "results = soup.select(\"tr[class^=data-row]\")\n",
        "\n",
        "for result in results:\n",
        "    cell = result.select(\"td\")\n",
        "    ticker = cell[0].text\n",
        "    company_name = cell[1].text\n",
        "    last_price = cell[2].text\n",
        "    industry_category = cell[3].text\n",
        "    cell_type = cell[4].text\n",
        "    exchange = cell[5].text\n",
        "    print(\"Ticker: \" + ticker)\n",
        "    print(\"Company Name: \" + company_name)\n",
        "    print(\"Last Price: \" + last_price)\n",
        "    print(\"Exchange: \" + exchange)\n",
        "    print(\"-------\")\n",
        "    "
      ],
      "execution_count": 0,
      "outputs": [
        {
          "output_type": "stream",
          "text": [
            "Ticker: SUPN\n",
            "Company Name: Supernus Pharmaceuticals, Inc.\n",
            "Last Price: 22.17\n",
            "Exchange: NGM\n",
            "-------\n",
            "Ticker: S49.SG\n",
            "Company Name: Supernus Pharmaceuticals Inc. R\n",
            "Last Price: 20.40\n",
            "Exchange: STU\n",
            "-------\n",
            "Ticker: S49.DU\n",
            "Company Name: SUPERNUS PHARMAC.DL -,001\n",
            "Last Price: 20.40\n",
            "Exchange: DUS\n",
            "-------\n",
            "Ticker: S49.F\n",
            "Company Name: SUPERNUS PHARMAC.DL -,001\n",
            "Last Price: 20.80\n",
            "Exchange: FRA\n",
            "-------\n"
          ],
          "name": "stdout"
        }
      ]
    }
  ]
}